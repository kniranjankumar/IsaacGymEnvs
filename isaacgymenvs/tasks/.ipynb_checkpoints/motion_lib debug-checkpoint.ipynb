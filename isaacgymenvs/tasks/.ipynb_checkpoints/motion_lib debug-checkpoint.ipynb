{
 "cells": [
  {
   "cell_type": "code",
   "execution_count": null,
   "id": "95533e4b",
   "metadata": {},
   "outputs": [],
   "source": [
    "from isaacgym.torch_utils import *\n",
    "from isaacgymenvs.tasks.amp.utils_amp.motion_lib_digit import MotionLib\n",
    "import torch\n",
    "import numpy as np\n",
    "DOF_BODY_IDS = [\n",
    "                 1,2,3,5,6,7,\n",
    "                14,15,16,18,19,20,\n",
    "                8,10,11,12,13,\n",
    "                21,23,24,25\n",
    "                ]\n",
    "\n",
    "motion_file = \"/home/dan/Projects/dynamic_motion_imitation/IsaacGymEnvs/isaacgymenvs/tasks/../../assets/amp/digit_motions/digit_neutral.npy\" \n",
    "num_dof = 22 \n",
    "_key_body_ids = np.array([28, 23,  8, 16])\n",
    "motion_lib = MotionLib(motion_file=motion_file, \n",
    "                         num_dofs=num_dof,\n",
    "                         key_body_ids=_key_body_ids, \n",
    "                         device=torch.device(\"cuda:0\"))\n",
    "\n",
    "motion_ids = motion_lib.sample_motions(1)\n",
    "\n",
    "root_pos, root_rot, dof_pos, root_vel, root_ang_vel, dof_vel, key_pos, local_rot = motion_lib.get_motion_state(motion_ids,motion_ids)"
   ]
  },
  {
   "cell_type": "code",
   "execution_count": null,
   "id": "7793b214",
   "metadata": {},
   "outputs": [],
   "source": [
    "dof_pos = motion_lib._local_rotation_to_dof(local_rot)"
   ]
  },
  {
   "cell_type": "code",
   "execution_count": null,
   "id": "f6123f9b",
   "metadata": {},
   "outputs": [],
   "source": [
    "dof_pos"
   ]
  },
  {
   "cell_type": "code",
   "execution_count": null,
   "id": "fd90528d",
   "metadata": {},
   "outputs": [],
   "source": [
    "[local_rot[:,idx] for idx in DOF_BODY_IDS]"
   ]
  },
  {
   "cell_type": "code",
   "execution_count": null,
   "id": "f8add5d5",
   "metadata": {},
   "outputs": [],
   "source": []
  }
 ],
 "metadata": {
  "kernelspec": {
   "display_name": "Python 3 (ipykernel)",
   "language": "python",
   "name": "python3"
  },
  "language_info": {
   "codemirror_mode": {
    "name": "ipython",
    "version": 3
   },
   "file_extension": ".py",
   "mimetype": "text/x-python",
   "name": "python",
   "nbconvert_exporter": "python",
   "pygments_lexer": "ipython3",
   "version": "3.7.12"
  }
 },
 "nbformat": 4,
 "nbformat_minor": 5
}
